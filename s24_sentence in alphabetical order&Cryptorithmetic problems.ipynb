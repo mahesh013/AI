{
 "cells": [
  {
   "cell_type": "code",
   "execution_count": 2,
   "id": "c501cee0",
   "metadata": {},
   "outputs": [
    {
     "name": "stdout",
     "output_type": "stream",
     "text": [
      "Enter a sentence: alpha beta ascending\n",
      "Sorted sentence: alpha ascending beta\n"
     ]
    }
   ],
   "source": [
    "def sort_sentence(sentence):\n",
    "    words = sentence.split()\n",
    "    sorted_words = sorted(words)\n",
    "    sorted_sentence = ' '.join(sorted_words)\n",
    "    return sorted_sentence\n",
    "\n",
    "if __name__ == \"__main__\":\n",
    "    input_sentence = input(\"Enter a sentence: \")\n",
    "    result = sort_sentence(input_sentence)\n",
    "    print(\"Sorted sentence:\", result)\n"
   ]
  },
  {
   "cell_type": "code",
   "execution_count": 8,
   "id": "21cd4d5e",
   "metadata": {},
   "outputs": [
    {
     "name": "stdout",
     "output_type": "stream",
     "text": [
      "No solution found.\n"
     ]
    }
   ],
   "source": [
    "from itertools import permutations\n",
    "\n",
    "def solve_cryptarithmetic():\n",
    "    for perm in permutations(range(10), 8):\n",
    "        c, r, o, s, a, d, n, g = perm\n",
    "        if c != 0 and r != 0:\n",
    "            cross = c * 10000 + r * 1000 + o * 100 + s * 10 + s\n",
    "            roads = r * 10000 + o * 1000 + a * 100 + d * 10 + s\n",
    "            danger = d * 100000 + a * 10000 + n * 1000 + g * 100 + r * 10 + s  # Fix here\n",
    "\n",
    "            if cross + roads == danger:\n",
    "                print(f\"C = {c}, R = {r}, O = {o}, S = {s}\")\n",
    "                print(f\"A = {a}, D = {d}, N = {n}, G = {g}, E = {r}\")  # Fix here\n",
    "                print(\"Solution found!\")\n",
    "                return\n",
    "\n",
    "    print(\"No solution found.\")\n",
    "\n",
    "if __name__ == \"__main__\":\n",
    "    solve_cryptarithmetic()\n"
   ]
  },
  {
   "cell_type": "code",
   "execution_count": null,
   "id": "952e6580",
   "metadata": {},
   "outputs": [],
   "source": []
  }
 ],
 "metadata": {
  "kernelspec": {
   "display_name": "Python 3 (ipykernel)",
   "language": "python",
   "name": "python3"
  },
  "language_info": {
   "codemirror_mode": {
    "name": "ipython",
    "version": 3
   },
   "file_extension": ".py",
   "mimetype": "text/x-python",
   "name": "python",
   "nbconvert_exporter": "python",
   "pygments_lexer": "ipython3",
   "version": "3.11.5"
  }
 },
 "nbformat": 4,
 "nbformat_minor": 5
}

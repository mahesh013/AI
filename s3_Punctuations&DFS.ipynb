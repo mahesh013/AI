{
 "cells": [
  {
   "cell_type": "code",
   "execution_count": 1,
   "id": "6b1d56ad",
   "metadata": {},
   "outputs": [
    {
     "name": "stdout",
     "output_type": "stream",
     "text": [
      "Enter a string with punctuation: mahesh kandekar .\n",
      "String without punctuation:\n",
      "mahesh kandekar \n"
     ]
    }
   ],
   "source": [
    "import string\n",
    "\n",
    "def remove_punctuation(input_string):\n",
    "    # Get the set of punctuation characters\n",
    "    punctuation_set = set(string.punctuation)\n",
    "\n",
    "    # Remove punctuation from the input string\n",
    "    result_string = ''.join(char for char in input_string if char not in punctuation_set)\n",
    "\n",
    "    return result_string\n",
    "\n",
    "def main():\n",
    "    # Get user input for the string\n",
    "    input_string = input(\"Enter a string with punctuation: \")\n",
    "\n",
    "    # Remove punctuation\n",
    "    result = remove_punctuation(input_string)\n",
    "\n",
    "    # Display the result\n",
    "    print(\"String without punctuation:\")\n",
    "    print(result)\n",
    "\n",
    "if __name__ == \"__main__\":\n",
    "    main()\n"
   ]
  },
  {
   "cell_type": "code",
   "execution_count": 2,
   "id": "91e08f4f",
   "metadata": {},
   "outputs": [
    {
     "name": "stdout",
     "output_type": "stream",
     "text": [
      "Starting DFS from node 2 to find goal node 7\n",
      "Visiting node 2\n",
      "Visiting node 4\n",
      "Visiting node 7\n",
      "Goal node 7 found!\n"
     ]
    }
   ],
   "source": [
    "from collections import defaultdict\n",
    "\n",
    "class Graph:\n",
    "    def __init__(self):\n",
    "        self.graph = defaultdict(list)\n",
    "\n",
    "    def add_edge(self, u, v):\n",
    "        self.graph[u].append(v)\n",
    "\n",
    "    def dfs(self, current_node, goal_node, visited):\n",
    "        print(f\"Visiting node {current_node}\")\n",
    "\n",
    "        if current_node == goal_node:\n",
    "            print(f\"Goal node {goal_node} found!\")\n",
    "            return True\n",
    "\n",
    "        visited.add(current_node)\n",
    "\n",
    "        for neighbor in self.graph[current_node]:\n",
    "            if neighbor not in visited:\n",
    "                if self.dfs(neighbor, goal_node, visited):\n",
    "                    return True\n",
    "\n",
    "        return False\n",
    "\n",
    "# Create a graph based on the provided input\n",
    "def create_graph():\n",
    "    graph = Graph()\n",
    "    edges = [(1, 2), (1, 3), (2, 4), (2, 5), (3, 4), (4, 7),(5,6),(5,7),(6,7)]\n",
    "    for edge in edges:\n",
    "        graph.add_edge(edge[0], edge[1])\n",
    "    return graph\n",
    "\n",
    "def main():\n",
    "    # Create a graph\n",
    "    graph = create_graph()\n",
    "\n",
    "    # Set the initial and goal nodes\n",
    "    initial_node = 2\n",
    "    goal_node = 7\n",
    "\n",
    "    # Run DFS\n",
    "    print(f\"Starting DFS from node {initial_node} to find goal node {goal_node}\")\n",
    "    visited = set()\n",
    "    if not graph.dfs(initial_node, goal_node, visited):\n",
    "        print(f\"Goal node {goal_node} not reachable from the initial node {initial_node}\")\n",
    "\n",
    "if __name__ == \"__main__\":\n",
    "    main()\n"
   ]
  },
  {
   "cell_type": "code",
   "execution_count": null,
   "id": "1e591433",
   "metadata": {},
   "outputs": [],
   "source": []
  }
 ],
 "metadata": {
  "kernelspec": {
   "display_name": "Python 3 (ipykernel)",
   "language": "python",
   "name": "python3"
  },
  "language_info": {
   "codemirror_mode": {
    "name": "ipython",
    "version": 3
   },
   "file_extension": ".py",
   "mimetype": "text/x-python",
   "name": "python",
   "nbconvert_exporter": "python",
   "pygments_lexer": "ipython3",
   "version": "3.11.5"
  }
 },
 "nbformat": 4,
 "nbformat_minor": 5
}

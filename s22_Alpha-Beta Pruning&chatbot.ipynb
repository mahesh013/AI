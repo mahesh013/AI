{
 "cells": [
  {
   "cell_type": "code",
   "execution_count": 1,
   "id": "9d75f422",
   "metadata": {},
   "outputs": [
    {
     "name": "stdout",
     "output_type": "stream",
     "text": [
      "Optimal value: 2\n"
     ]
    }
   ],
   "source": [
    "class Node:\n",
    "    def __init__(self, value=None, children=None):\n",
    "        self.value = value\n",
    "        self.children = children if children is not None else []\n",
    "\n",
    "def minimax(node, depth, alpha, beta, maximizing_player):\n",
    "    if depth == 0 or not node.children:\n",
    "        return node.value\n",
    "\n",
    "    if maximizing_player:\n",
    "        max_eval = float('-inf')\n",
    "        for child in node.children:\n",
    "            eval_child = minimax(child, depth - 1, alpha, beta, False)\n",
    "            max_eval = max(max_eval, eval_child)\n",
    "            alpha = max(alpha, eval_child)\n",
    "            if beta <= alpha:\n",
    "                break  # Beta cutoff\n",
    "        return max_eval\n",
    "    else:\n",
    "        min_eval = float('inf')\n",
    "        for child in node.children:\n",
    "            eval_child = minimax(child, depth - 1, alpha, beta, True)\n",
    "            min_eval = min(min_eval, eval_child)\n",
    "            beta = min(beta, eval_child)\n",
    "            if beta <= alpha:\n",
    "                break  # Alpha cutoff\n",
    "        return min_eval\n",
    "\n",
    "if __name__ == \"__main__\":\n",
    "    # Example tree structure\n",
    "    tree = Node(value=None, children=[\n",
    "        Node(value=3, children=[\n",
    "            Node(value=5),\n",
    "            Node(value=2),\n",
    "            Node(value=9)\n",
    "        ]),\n",
    "        Node(value=8, children=[\n",
    "            Node(value=1),\n",
    "            Node(value=4),\n",
    "            Node(value=7)\n",
    "        ]),\n",
    "        Node(value=2, children=[\n",
    "            Node(value=6),\n",
    "            Node(value=1),\n",
    "            Node(value=9)\n",
    "        ])\n",
    "    ])\n",
    "\n",
    "    result = minimax(tree, depth=3, alpha=float('-inf'), beta=float('inf'), maximizing_player=True)\n",
    "    print(\"Optimal value:\", result)\n"
   ]
  },
  {
   "cell_type": "code",
   "execution_count": null,
   "id": "9ef80e3a",
   "metadata": {},
   "outputs": [],
   "source": [
    "import random\n",
    "\n",
    "def simple_chatbot():\n",
    "    responses = {\n",
    "        \"hello\": [\"Hi there!\", \"Hello!\", \"Hey!\"],\n",
    "        \"how are you\": [\"I'm good, thank you.\", \"I'm doing well.\", \"All good!\"],\n",
    "        \"bye\": [\"Goodbye!\", \"See you later!\", \"Bye!\"],\n",
    "        \"name\": [\"I'm a chatbot.\", \"You can call me ChatBot.\", \"I don't have a name.\"]\n",
    "        # Add more responses based on different user inputs\n",
    "    }\n",
    "\n",
    "    print(\"Simple Chatbot: Hello! Ask me something or say goodbye to end the conversation.\")\n",
    "\n",
    "    while True:\n",
    "        user_input = input(\"You: \").lower()\n",
    "\n",
    "        if user_input == \"bye\":\n",
    "            print(\"Simple Chatbot: Goodbye!\")\n",
    "            break\n",
    "\n",
    "        response = responses.get(user_input, [\"I'm not sure how to respond to that.\"])\n",
    "        print(\"Simple Chatbot:\", random.choice(response))\n",
    "\n",
    "if __name__ == \"__main__\":\n",
    "    simple_chatbot()\n"
   ]
  }
 ],
 "metadata": {
  "kernelspec": {
   "display_name": "Python 3 (ipykernel)",
   "language": "python",
   "name": "python3"
  },
  "language_info": {
   "codemirror_mode": {
    "name": "ipython",
    "version": 3
   },
   "file_extension": ".py",
   "mimetype": "text/x-python",
   "name": "python",
   "nbconvert_exporter": "python",
   "pygments_lexer": "ipython3",
   "version": "3.11.5"
  }
 },
 "nbformat": 4,
 "nbformat_minor": 5
}

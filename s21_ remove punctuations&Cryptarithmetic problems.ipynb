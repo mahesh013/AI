{
 "cells": [
  {
   "cell_type": "code",
   "execution_count": 1,
   "id": "5ea55628",
   "metadata": {},
   "outputs": [
    {
     "name": "stdout",
     "output_type": "stream",
     "text": [
      "Enter a string with punctuations: mahesh ..!\n",
      "String after removing punctuations: mahesh \n"
     ]
    }
   ],
   "source": [
    "import string\n",
    "\n",
    "def remove_punctuation(input_string):\n",
    "    # Create a translation table that maps each punctuation character to None\n",
    "    translation_table = str.maketrans(\"\", \"\", string.punctuation)\n",
    "    \n",
    "    # Use translate method to remove punctuations\n",
    "    result_string = input_string.translate(translation_table)\n",
    "    \n",
    "    return result_string\n",
    "\n",
    "if __name__ == \"__main__\":\n",
    "    input_string = input(\"Enter a string with punctuations: \")\n",
    "    \n",
    "    result = remove_punctuation(input_string)\n",
    "    \n",
    "    print(\"String after removing punctuations:\", result)\n"
   ]
  },
  {
   "cell_type": "code",
   "execution_count": 2,
   "id": "ac084783",
   "metadata": {},
   "outputs": [
    {
     "name": "stdout",
     "output_type": "stream",
     "text": [
      "No solution found.\n"
     ]
    }
   ],
   "source": [
    "from itertools import permutations\n",
    "\n",
    "def is_valid_assignment(assignment):\n",
    "    # Check if the assignment is valid (no leading zeros)\n",
    "    return assignment['G'] != 0 and assignment['T'] != 0 and assignment['O'] != 0\n",
    "\n",
    "def solve_cryptarithmetic():\n",
    "    for permutation in permutations(range(10), 4):\n",
    "        assignment = {'G': permutation[0], 'O': permutation[1], 'T': permutation[2], 'U': permutation[3]}\n",
    "        \n",
    "        if is_valid_assignment(assignment):\n",
    "            go = 100 * assignment['G'] + 10 * assignment['O']\n",
    "            to = 10 * assignment['T'] + assignment['O']\n",
    "            out = go + to\n",
    "\n",
    "            if out == 1000 * assignment['O'] + 100 * assignment['U'] + 10 * assignment['T']:\n",
    "                print(\"Solution found:\")\n",
    "                print(\"  G O\")\n",
    "                print(\"+ T O\")\n",
    "                print(\"------\")\n",
    "                print(f\"  O U T ({assignment})\")\n",
    "                return\n",
    "\n",
    "    print(\"No solution found.\")\n",
    "\n",
    "if __name__ == \"__main__\":\n",
    "    solve_cryptarithmetic()\n"
   ]
  },
  {
   "cell_type": "code",
   "execution_count": null,
   "id": "a3a3464f",
   "metadata": {},
   "outputs": [],
   "source": []
  }
 ],
 "metadata": {
  "kernelspec": {
   "display_name": "Python 3 (ipykernel)",
   "language": "python",
   "name": "python3"
  },
  "language_info": {
   "codemirror_mode": {
    "name": "ipython",
    "version": 3
   },
   "file_extension": ".py",
   "mimetype": "text/x-python",
   "name": "python",
   "nbconvert_exporter": "python",
   "pygments_lexer": "ipython3",
   "version": "3.11.5"
  }
 },
 "nbformat": 4,
 "nbformat_minor": 5
}

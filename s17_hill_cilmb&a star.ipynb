{
 "cells": [
  {
   "cell_type": "code",
   "execution_count": 1,
   "id": "d7cead40",
   "metadata": {},
   "outputs": [
    {
     "name": "stdout",
     "output_type": "stream",
     "text": [
      "Enter the starting point: 2\n",
      "Enter the step size: 6\n",
      "Enter the number of iterations: 5\n",
      "The maximum value is 4.0 at x = 2.0\n"
     ]
    }
   ],
   "source": [
    "def objective_function(x):\n",
    "    return -x**2 + 4*x\n",
    "\n",
    "def hill_climbing(starting_point, step_size, num_iterations):\n",
    "    current_position = starting_point\n",
    "\n",
    "    for _ in range(num_iterations):\n",
    "        current_value = objective_function(current_position)\n",
    "        next_position = current_position + step_size\n",
    "        next_value = objective_function(next_position)\n",
    "\n",
    "        if next_value > current_value:\n",
    "            current_position = next_position\n",
    "        else:\n",
    "            break\n",
    "\n",
    "    return current_position, objective_function(current_position)\n",
    "\n",
    "if __name__ == \"__main__\":\n",
    "    starting_point = float(input(\"Enter the starting point: \"))\n",
    "    step_size = float(input(\"Enter the step size: \"))\n",
    "    num_iterations = int(input(\"Enter the number of iterations: \"))\n",
    "\n",
    "    max_position, max_value = hill_climbing(starting_point, step_size, num_iterations)\n",
    "\n",
    "    print(f\"The maximum value is {max_value} at x = {max_position}\")\n"
   ]
  },
  {
   "cell_type": "code",
   "execution_count": 5,
   "id": "de6cf5dd",
   "metadata": {},
   "outputs": [
    {
     "name": "stdout",
     "output_type": "stream",
     "text": [
      "Shortest path from A to G: ['A', 'B', 'C', 'D', 'G']\n"
     ]
    }
   ],
   "source": [
    "from queue import PriorityQueue\n",
    "\n",
    "# Example graph represented as an adjacency list\n",
    "graph = {\n",
    "    'A': {'B': 1, 'C': 4},\n",
    "    'B': {'A': 1, 'C': 2, 'D': 5},\n",
    "    'C': {'A': 4, 'B': 2, 'D': 1},\n",
    "    'D': {'B': 5, 'C': 1, 'G': 3},\n",
    "    'G': {'D': 3}\n",
    "    \n",
    "    \n",
    "}\n",
    "\n",
    "def astar(start, goal):\n",
    "    open_set = PriorityQueue()\n",
    "    open_set.put((0, start))  # Priority queue sorted by total cost (f(n))\n",
    "    \n",
    "    came_from = {}\n",
    "    g_score = {node: float('inf') for node in graph}\n",
    "    g_score[start] = 0\n",
    "    \n",
    "    f_score = {node: float('inf') for node in graph}\n",
    "    f_score[start] = heuristic(start, goal)\n",
    "\n",
    "    while not open_set.empty():\n",
    "        current_node = open_set.get()[1]\n",
    "\n",
    "        if current_node == goal:\n",
    "            path = reconstruct_path(came_from, goal)\n",
    "            return path\n",
    "\n",
    "        for neighbor, cost in graph[current_node].items():\n",
    "            tentative_g_score = g_score[current_node] + cost\n",
    "\n",
    "            if tentative_g_score < g_score[neighbor]:\n",
    "                came_from[neighbor] = current_node\n",
    "                g_score[neighbor] = tentative_g_score\n",
    "                f_score[neighbor] = g_score[neighbor] + heuristic(neighbor, goal)\n",
    "                open_set.put((f_score[neighbor], neighbor))\n",
    "\n",
    "    return None  # No path found\n",
    "\n",
    "def heuristic(node, goal):\n",
    "    # Example heuristic: Euclidean distance between nodes\n",
    "    coordinates = {'A': (0, 0), 'B': (1, 1), 'C': (3, 1), 'D': (2, 2), 'G': (4, 2)}\n",
    "    x1, y1 = coordinates[node]\n",
    "    x2, y2 = coordinates[goal]\n",
    "    return ((x1 - x2) ** 2 + (y1 - y2) ** 2) ** 0.5\n",
    "\n",
    "def reconstruct_path(came_from, current_node):\n",
    "    path = [current_node]\n",
    "    while current_node in came_from:\n",
    "        current_node = came_from[current_node]\n",
    "        path.insert(0, current_node)\n",
    "    return path\n",
    "\n",
    "if __name__ == \"__main__\":\n",
    "    start_vertex = 'A'\n",
    "    goal_vertex = 'G'\n",
    "\n",
    "    path = astar(start_vertex, goal_vertex)\n",
    "\n",
    "    if path:\n",
    "        print(f\"Shortest path from {start_vertex} to {goal_vertex}: {path}\")\n",
    "    else:\n",
    "        print(f\"No path found from {start_vertex} to {goal_vertex}\")\n"
   ]
  },
  {
   "cell_type": "code",
   "execution_count": null,
   "id": "1ae68643",
   "metadata": {},
   "outputs": [],
   "source": []
  }
 ],
 "metadata": {
  "kernelspec": {
   "display_name": "Python 3 (ipykernel)",
   "language": "python",
   "name": "python3"
  },
  "language_info": {
   "codemirror_mode": {
    "name": "ipython",
    "version": 3
   },
   "file_extension": ".py",
   "mimetype": "text/x-python",
   "name": "python",
   "nbconvert_exporter": "python",
   "pygments_lexer": "ipython3",
   "version": "3.11.5"
  }
 },
 "nbformat": 4,
 "nbformat_minor": 5
}

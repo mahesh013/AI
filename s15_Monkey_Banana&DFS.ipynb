{
 "cells": [
  {
   "cell_type": "code",
   "execution_count": 1,
   "id": "656673f5",
   "metadata": {},
   "outputs": [
    {
     "name": "stdout",
     "output_type": "stream",
     "text": [
      "Maximum bananas collected: 3\n"
     ]
    }
   ],
   "source": [
    "def monkey_banana_problem(room):\n",
    "    rows, cols = len(room), len(room[0])\n",
    "\n",
    "    def is_valid_position(x, y):\n",
    "        return 0 <= x < rows and 0 <= y < cols\n",
    "\n",
    "    def dfs(x, y, bananas_collected, visited):\n",
    "        if not is_valid_position(x, y) or room[x][y] == 'W' or visited[x][y]:\n",
    "            return 0\n",
    "\n",
    "        visited[x][y] = True\n",
    "        bananas_collected += int(room[x][y] == 'B')\n",
    "\n",
    "        max_collected = bananas_collected\n",
    "\n",
    "        # Move up\n",
    "        max_collected = max(max_collected, dfs(x - 1, y, bananas_collected, visited))\n",
    "\n",
    "        # Move down\n",
    "        max_collected = max(max_collected, dfs(x + 1, y, bananas_collected, visited))\n",
    "\n",
    "        # Move left\n",
    "        max_collected = max(max_collected, dfs(x, y - 1, bananas_collected, visited))\n",
    "\n",
    "        # Move right\n",
    "        max_collected = max(max_collected, dfs(x, y + 1, bananas_collected, visited))\n",
    "\n",
    "        visited[x][y] = False  # Backtrack\n",
    "\n",
    "        return max_collected\n",
    "\n",
    "    monkey_start = (0, 0)\n",
    "    return dfs(*monkey_start, 0, [[False] * cols for _ in range(rows)])\n",
    "\n",
    "if __name__ == \"__main__\":\n",
    "    # Example room configuration\n",
    "    room = [\n",
    "        [' ', ' ', ' ', ' '],\n",
    "        [' ', 'W', ' ', 'B'],\n",
    "        ['B', 'W', ' ', ' '],\n",
    "        [' ', ' ', ' ', 'B']\n",
    "    ]\n",
    "\n",
    "    max_bananas_collected = monkey_banana_problem(room)\n",
    "    print(f\"Maximum bananas collected: {max_bananas_collected}\")\n"
   ]
  },
  {
   "cell_type": "code",
   "execution_count": 2,
   "id": "35c86ba0",
   "metadata": {},
   "outputs": [
    {
     "name": "stdout",
     "output_type": "stream",
     "text": [
      "Goal node G found.\n"
     ]
    }
   ],
   "source": [
    "class Node:\n",
    "    def __init__(self, name):\n",
    "        self.name = name\n",
    "        self.children = []\n",
    "\n",
    "def iterative_deepening_dfs(root, goal):\n",
    "    depth_limit = 0\n",
    "\n",
    "    while True:\n",
    "        result = depth_limited_dfs(root, goal, depth_limit)\n",
    "\n",
    "        if result == goal:\n",
    "            return result  # Goal node found\n",
    "        elif result == \"cutoff\":\n",
    "            depth_limit += 1  # Increase depth limit\n",
    "        elif result is None:\n",
    "            return None  # Goal node not found\n",
    "\n",
    "def depth_limited_dfs(node, goal, depth_limit):\n",
    "    return recursive_dls(node, goal, depth_limit)\n",
    "\n",
    "def recursive_dls(node, goal, depth_limit):\n",
    "    if node.name == goal:\n",
    "        return node.name  # Goal node found\n",
    "\n",
    "    if depth_limit == 0:\n",
    "        return \"cutoff\"\n",
    "\n",
    "    cutoff_occurred = False\n",
    "\n",
    "    for child in node.children:\n",
    "        result = recursive_dls(child, goal, depth_limit - 1)\n",
    "\n",
    "        if result == \"cutoff\":\n",
    "            cutoff_occurred = True\n",
    "        elif result is not None:\n",
    "            return result  # Goal node found\n",
    "\n",
    "    return \"cutoff\" if cutoff_occurred else None\n",
    "\n",
    "if __name__ == \"__main__\":\n",
    "    # Create a sample tree\n",
    "    A = Node(\"A\")\n",
    "    B = Node(\"B\")\n",
    "    C = Node(\"C\")\n",
    "    D = Node(\"D\")\n",
    "    E = Node(\"E\")\n",
    "    F = Node(\"F\")\n",
    "    G = Node(\"G\")\n",
    "\n",
    "    A.children = [B, C, D]\n",
    "    B.children = [E, F]\n",
    "    E.children = [G]\n",
    "\n",
    "    goal_node_name = \"G\"\n",
    "\n",
    "    result = iterative_deepening_dfs(A, goal_node_name)\n",
    "\n",
    "    if result == goal_node_name:\n",
    "        print(f\"Goal node {goal_node_name} found.\")\n",
    "    else:\n",
    "        print(f\"Goal node {goal_node_name} not found.\")\n"
   ]
  },
  {
   "cell_type": "code",
   "execution_count": null,
   "id": "96ccbef7",
   "metadata": {},
   "outputs": [],
   "source": []
  }
 ],
 "metadata": {
  "kernelspec": {
   "display_name": "Python 3 (ipykernel)",
   "language": "python",
   "name": "python3"
  },
  "language_info": {
   "codemirror_mode": {
    "name": "ipython",
    "version": 3
   },
   "file_extension": ".py",
   "mimetype": "text/x-python",
   "name": "python",
   "nbconvert_exporter": "python",
   "pygments_lexer": "ipython3",
   "version": "3.11.5"
  }
 },
 "nbformat": 4,
 "nbformat_minor": 5
}

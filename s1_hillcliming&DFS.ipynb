{
 "cells": [
  {
   "cell_type": "code",
   "execution_count": 1,
   "id": "cdd4cc9f",
   "metadata": {},
   "outputs": [
    {
     "name": "stdout",
     "output_type": "stream",
     "text": [
      "Maximum found at x = 2.0000000000000004\n",
      "Maximum value is 4.0\n"
     ]
    }
   ],
   "source": [
    "import numpy as np\n",
    "\n",
    "def objective_function(x):\n",
    "    \"\"\"\n",
    "    The objective function to be maximized.\n",
    "    In this example, f(x) = -x^2 + 4x.\n",
    "    \"\"\"\n",
    "    return -x**2 + 4*x\n",
    "\n",
    "def hill_climbing(initial_x, step_size, max_iterations):\n",
    "    \"\"\"\n",
    "    Hill climbing algorithm to find the maximum of the objective function.\n",
    "    \"\"\"\n",
    "    current_x = initial_x\n",
    "\n",
    "    for _ in range(max_iterations):\n",
    "        current_value = objective_function(current_x)\n",
    "        next_x = current_x + step_size\n",
    "        next_value = objective_function(next_x)\n",
    "\n",
    "        if next_value > current_value:\n",
    "            current_x = next_x\n",
    "        else:\n",
    "            break\n",
    "\n",
    "    return current_x, objective_function(current_x)\n",
    "\n",
    "def main():\n",
    "    # Set the initial parameters\n",
    "    initial_x = 0.0\n",
    "    step_size = 0.1\n",
    "    max_iterations = 100\n",
    "\n",
    "    # Run the hill climbing algorithm\n",
    "    max_x, max_value = hill_climbing(initial_x, step_size, max_iterations)\n",
    "\n",
    "    # Print the results\n",
    "    print(f\"Maximum found at x = {max_x}\")\n",
    "    print(f\"Maximum value is {max_value}\")\n",
    "\n",
    "if __name__ == \"__main__\":\n",
    "    main()\n"
   ]
  },
  {
   "cell_type": "code",
   "execution_count": 3,
   "id": "a32a82e1",
   "metadata": {},
   "outputs": [
    {
     "name": "stdout",
     "output_type": "stream",
     "text": [
      "Starting DFS from node 1 to find goal node 8\n",
      "Visiting node 1\n",
      "Visiting node 2\n",
      "Visiting node 4\n",
      "Goal node 8 found!\n"
     ]
    }
   ],
   "source": [
    "from collections import defaultdict\n",
    "\n",
    "class Graph:\n",
    "    def __init__(self):\n",
    "        self.graph = defaultdict(list)\n",
    "\n",
    "    def add_edge(self, u, v):\n",
    "        self.graph[u].append(v)\n",
    "\n",
    "    def dfs(self, start, goal):\n",
    "        visited = set()\n",
    "        stack = [start]\n",
    "\n",
    "        while stack:\n",
    "            current_node = stack.pop()\n",
    "            if current_node == goal:\n",
    "                print(f\"Goal node {goal} found!\")\n",
    "                return True\n",
    "\n",
    "            if current_node not in visited:\n",
    "                print(f\"Visiting node {current_node}\")\n",
    "                visited.add(current_node)\n",
    "                stack.extend(reversed(self.graph[current_node]))\n",
    "\n",
    "        print(f\"Goal node {goal} not reachable from the initial node {start}\")\n",
    "        return False\n",
    "\n",
    "# Create a graph based on the provided input\n",
    "def create_graph():\n",
    "    graph = Graph()\n",
    "    edges = [(1, 2), (1, 3), (2, 4), (2, 5), (3, 6), (3, 7), (4, 8), (5, 8),(6,8),(7,8)]\n",
    "    for edge in edges:\n",
    "        graph.add_edge(edge[0], edge[1])\n",
    "    return graph\n",
    "\n",
    "def main():\n",
    "    # Create a graph\n",
    "    graph = create_graph()\n",
    "\n",
    "    # Set the initial and goal nodes\n",
    "    initial_node = 1\n",
    "    goal_node = 8\n",
    "\n",
    "    # Run DFS\n",
    "    print(f\"Starting DFS from node {initial_node} to find goal node {goal_node}\")\n",
    "    graph.dfs(initial_node, goal_node)\n",
    "\n",
    "if __name__ == \"__main__\":\n",
    "    main()\n"
   ]
  },
  {
   "cell_type": "code",
   "execution_count": null,
   "id": "59be8089",
   "metadata": {},
   "outputs": [],
   "source": []
  }
 ],
 "metadata": {
  "kernelspec": {
   "display_name": "Python 3 (ipykernel)",
   "language": "python",
   "name": "python3"
  },
  "language_info": {
   "codemirror_mode": {
    "name": "ipython",
    "version": 3
   },
   "file_extension": ".py",
   "mimetype": "text/x-python",
   "name": "python",
   "nbconvert_exporter": "python",
   "pygments_lexer": "ipython3",
   "version": "3.11.5"
  }
 },
 "nbformat": 4,
 "nbformat_minor": 5
}

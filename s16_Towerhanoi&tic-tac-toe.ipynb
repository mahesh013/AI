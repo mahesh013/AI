{
 "cells": [
  {
   "cell_type": "code",
   "execution_count": null,
   "id": "79be5f34",
   "metadata": {},
   "outputs": [],
   "source": [
    "def tower_of_hanoi(n, source, auxiliary, target):\n",
    "    if n == 1:\n",
    "        print(f\"Move disk 1 from {source} to {target}\")\n",
    "        return\n",
    "    tower_of_hanoi(n - 1, source, target, auxiliary)\n",
    "    print(f\"Move disk {n} from {source} to {target}\")\n",
    "    tower_of_hanoi(n - 1, auxiliary, source, target)\n",
    "\n",
    "if __name__ == \"__main__\":\n",
    "    num_disks = int(input(\"Enter the number of disks: \"))\n",
    "    tower_of_hanoi(num_disks, 'A', 'B', 'C')\n"
   ]
  },
  {
   "cell_type": "code",
   "execution_count": null,
   "id": "4643a050",
   "metadata": {},
   "outputs": [
    {
     "name": "stdout",
     "output_type": "stream",
     "text": [
      "  |   |  \n",
      "---------\n",
      "  |   |  \n",
      "---------\n",
      "  |   |  \n",
      "---------\n"
     ]
    }
   ],
   "source": [
    "def print_board(board):\n",
    "    for row in board:\n",
    "        print(\" | \".join(row))\n",
    "        print(\"-\" * 9)\n",
    "\n",
    "def check_winner(board):\n",
    "    # Check rows\n",
    "    for row in board:\n",
    "        if all(cell == row[0] and cell != ' ' for cell in row):\n",
    "            return True\n",
    "\n",
    "    # Check columns\n",
    "    for col in range(3):\n",
    "        if all(board[row][col] == board[0][col] and board[row][col] != ' ' for row in range(3)):\n",
    "            return True\n",
    "\n",
    "    # Check diagonals\n",
    "    if all(board[i][i] == board[0][0] and board[i][i] != ' ' for i in range(3)) or \\\n",
    "       all(board[i][2 - i] == board[0][2] and board[i][2 - i] != ' ' for i in range(3)):\n",
    "        return True\n",
    "\n",
    "    return False\n",
    "\n",
    "def is_board_full(board):\n",
    "    return all(cell != ' ' for row in board for cell in row)\n",
    "\n",
    "def tic_tac_toe():\n",
    "    board = [[' ' for _ in range(3)] for _ in range(3)]\n",
    "    current_player = 'X'\n",
    "\n",
    "    while True:\n",
    "        print_board(board)\n",
    "\n",
    "        row = int(input(f\"Player {current_player}, enter row (0, 1, or 2): \"))\n",
    "        col = int(input(f\"Player {current_player}, enter column (0, 1, or 2): \"))\n",
    "\n",
    "        if board[row][col] == ' ':\n",
    "            board[row][col] = current_player\n",
    "            if check_winner(board):\n",
    "                print_board(board)\n",
    "                print(f\"Player {current_player} wins!\")\n",
    "                break\n",
    "            elif is_board_full(board):\n",
    "                print_board(board)\n",
    "                print(\"It's a tie!\")\n",
    "                break\n",
    "            else:\n",
    "                current_player = 'O' if current_player == 'X' else 'X'\n",
    "        else:\n",
    "            print(\"Cell already taken. Try again.\")\n",
    "\n",
    "if __name__ == \"__main__\":\n",
    "    tic_tac_toe()\n"
   ]
  },
  {
   "cell_type": "code",
   "execution_count": null,
   "id": "d7e89f71",
   "metadata": {},
   "outputs": [],
   "source": []
  }
 ],
 "metadata": {
  "kernelspec": {
   "display_name": "Python 3 (ipykernel)",
   "language": "python",
   "name": "python3"
  },
  "language_info": {
   "codemirror_mode": {
    "name": "ipython",
    "version": 3
   },
   "file_extension": ".py",
   "mimetype": "text/x-python",
   "name": "python",
   "nbconvert_exporter": "python",
   "pygments_lexer": "ipython3",
   "version": "3.11.5"
  }
 },
 "nbformat": 4,
 "nbformat_minor": 5
}

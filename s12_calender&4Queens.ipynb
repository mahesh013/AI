{
 "cells": [
  {
   "cell_type": "code",
   "execution_count": 1,
   "id": "8d42cbe4",
   "metadata": {},
   "outputs": [
    {
     "name": "stdout",
     "output_type": "stream",
     "text": [
      "Enter the year (e.g., 2023): 2023\n",
      "Enter the month (1-12): 5\n",
      "Calendar for May 2023:\n",
      "\n",
      "      May 2023\n",
      "Mo Tu We Th Fr Sa Su\n",
      " 1  2  3  4  5  6  7\n",
      " 8  9 10 11 12 13 14\n",
      "15 16 17 18 19 20 21\n",
      "22 23 24 25 26 27 28\n",
      "29 30 31\n",
      "\n",
      "HTML calendar saved to calendar.html\n"
     ]
    }
   ],
   "source": [
    "import calendar\n",
    "\n",
    "def generate_calendar(year, month):\n",
    "    # Text calendar\n",
    "    cal_text = calendar.month(year, month)\n",
    "    print(f\"Calendar for {calendar.month_name[month]} {year}:\\n\")\n",
    "    print(cal_text)\n",
    "\n",
    "    # HTML calendar (optional)\n",
    "    cal_html = calendar.HTMLCalendar().formatmonth(year, month)\n",
    "    with open(\"calendar.html\", \"w\") as html_file:\n",
    "        html_file.write(cal_html)\n",
    "    print(\"HTML calendar saved to calendar.html\")\n",
    "\n",
    "if __name__ == \"__main__\":\n",
    "    year = int(input(\"Enter the year (e.g., 2023): \"))\n",
    "    month = int(input(\"Enter the month (1-12): \"))\n",
    "\n",
    "    generate_calendar(year, month)\n"
   ]
  },
  {
   "cell_type": "code",
   "execution_count": 2,
   "id": "3ac66158",
   "metadata": {},
   "outputs": [
    {
     "name": "stdout",
     "output_type": "stream",
     "text": [
      "Solution found:\n",
      ". Q . .\n",
      ". . . Q\n",
      "Q . . .\n",
      ". . Q .\n"
     ]
    }
   ],
   "source": [
    "def is_safe(board, row, col):\n",
    "    # Check if there is a queen in the same row\n",
    "    if any(board[row]):\n",
    "        return False\n",
    "\n",
    "    # Check if there is a queen in the same column\n",
    "    if any(board[i][col] for i in range(len(board))):\n",
    "        return False\n",
    "\n",
    "    # Check if there is a queen in the left diagonal\n",
    "    if any(board[i][j] for i, j in zip(range(row, -1, -1), range(col, -1, -1))):\n",
    "        return False\n",
    "\n",
    "    # Check if there is a queen in the right diagonal\n",
    "    if any(board[i][j] for i, j in zip(range(row, -1, -1), range(col, len(board)))):\n",
    "        return False\n",
    "\n",
    "    return True\n",
    "\n",
    "def solve_queens(board, row):\n",
    "    if row == len(board):\n",
    "        return True  # All queens are placed successfully\n",
    "\n",
    "    for col in range(len(board)):\n",
    "        if is_safe(board, row, col):\n",
    "            board[row][col] = 1  # Place the queen\n",
    "            if solve_queens(board, row + 1):\n",
    "                return True\n",
    "            board[row][col] = 0  # Backtrack if placing the queen leads to no solution\n",
    "\n",
    "    return False  # No solution found\n",
    "\n",
    "def print_board(board):\n",
    "    for row in board:\n",
    "        print(\" \".join(\"Q\" if cell else \".\" for cell in row))\n",
    "\n",
    "def four_queens():\n",
    "    board = [[0] * 4 for _ in range(4)]\n",
    "\n",
    "    if solve_queens(board, 0):\n",
    "        print(\"Solution found:\")\n",
    "        print_board(board)\n",
    "    else:\n",
    "        print(\"No solution found.\")\n",
    "\n",
    "if __name__ == \"__main__\":\n",
    "    four_queens()\n"
   ]
  },
  {
   "cell_type": "code",
   "execution_count": null,
   "id": "085e329c",
   "metadata": {},
   "outputs": [],
   "source": []
  }
 ],
 "metadata": {
  "kernelspec": {
   "display_name": "Python 3 (ipykernel)",
   "language": "python",
   "name": "python3"
  },
  "language_info": {
   "codemirror_mode": {
    "name": "ipython",
    "version": 3
   },
   "file_extension": ".py",
   "mimetype": "text/x-python",
   "name": "python",
   "nbconvert_exporter": "python",
   "pygments_lexer": "ipython3",
   "version": "3.11.5"
  }
 },
 "nbformat": 4,
 "nbformat_minor": 5
}

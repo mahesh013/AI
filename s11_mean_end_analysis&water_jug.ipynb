{
 "cells": [
  {
   "cell_type": "code",
   "execution_count": 1,
   "id": "64db366f",
   "metadata": {},
   "outputs": [
    {
     "name": "stdout",
     "output_type": "stream",
     "text": [
      "Enter the starting string: bbcd\n",
      "Enter the goal string: bccd\n",
      "Operation 1: bccd\n",
      "Transformation complete in 1 operations.\n"
     ]
    }
   ],
   "source": [
    "def mean_end_analysis(start, goal):\n",
    "    current_state = start\n",
    "    goal_state = goal\n",
    "    operations = 0\n",
    "\n",
    "    while current_state != goal_state:\n",
    "        # Find the first differing character\n",
    "        index = 0\n",
    "        while index < len(current_state) and current_state[index] == goal_state[index]:\n",
    "            index += 1\n",
    "\n",
    "        if index == len(current_state):\n",
    "            break  # The rest of the string is the same\n",
    "\n",
    "        # Perform an operation to make the current state closer to the goal state\n",
    "        current_state = current_state[:index] + goal_state[index] + current_state[index + 1:]\n",
    "        operations += 1\n",
    "\n",
    "        print(f\"Operation {operations}: {current_state}\")\n",
    "\n",
    "    print(f\"Transformation complete in {operations} operations.\")\n",
    "\n",
    "if __name__ == \"__main__\":\n",
    "    start_string = input(\"Enter the starting string: \").lower()\n",
    "    goal_string = input(\"Enter the goal string: \").lower()\n",
    "\n",
    "    mean_end_analysis(start_string, goal_string)\n"
   ]
  },
  {
   "cell_type": "code",
   "execution_count": 2,
   "id": "667b5039",
   "metadata": {},
   "outputs": [
    {
     "name": "stdout",
     "output_type": "stream",
     "text": [
      "Target of 2 gallons achieved!\n"
     ]
    }
   ],
   "source": [
    "from collections import deque\n",
    "\n",
    "class State:\n",
    "    def __init__(self, jug_4, jug_3):\n",
    "        self.jug_4 = jug_4\n",
    "        self.jug_3 = jug_3\n",
    "\n",
    "    def __eq__(self, other):\n",
    "        return self.jug_4 == other.jug_4 and self.jug_3 == other.jug_3\n",
    "\n",
    "    def __hash__(self):\n",
    "        return hash((self.jug_4, self.jug_3))\n",
    "\n",
    "    def __str__(self):\n",
    "        return f\"({self.jug_4}, {self.jug_3})\"\n",
    "\n",
    "def water_jug_bfs(target):\n",
    "    initial_state = State(0, 0)\n",
    "    visited = set()\n",
    "    queue = deque([initial_state])\n",
    "\n",
    "    while queue:\n",
    "        current_state = queue.popleft()\n",
    "\n",
    "        if current_state.jug_3 == target:\n",
    "            print(f\"Target of {target} gallons achieved!\")\n",
    "            return\n",
    "\n",
    "        visited.add(current_state)\n",
    "\n",
    "        # Fill jug 4\n",
    "        fill_jug_4 = State(4, current_state.jug_3)\n",
    "        if fill_jug_4 not in visited:\n",
    "            queue.append(fill_jug_4)\n",
    "\n",
    "        # Fill jug 3\n",
    "        fill_jug_3 = State(current_state.jug_4, 3)\n",
    "        if fill_jug_3 not in visited:\n",
    "            queue.append(fill_jug_3)\n",
    "\n",
    "        # Pour water from jug 4 to jug 3\n",
    "        pour_4_to_3 = State(max(0, current_state.jug_4 - (3 - current_state.jug_3)), min(3, current_state.jug_3 + current_state.jug_4))\n",
    "        if pour_4_to_3 not in visited:\n",
    "            queue.append(pour_4_to_3)\n",
    "\n",
    "        # Pour water from jug 3 to jug 4\n",
    "        pour_3_to_4 = State(min(4, current_state.jug_4 + current_state.jug_3), max(0, current_state.jug_3 - (4 - current_state.jug_4)))\n",
    "        if pour_3_to_4 not in visited:\n",
    "            queue.append(pour_3_to_4)\n",
    "\n",
    "        # Empty jug 4\n",
    "        empty_jug_4 = State(0, current_state.jug_3)\n",
    "        if empty_jug_4 not in visited:\n",
    "            queue.append(empty_jug_4)\n",
    "\n",
    "        # Empty jug 3\n",
    "        empty_jug_3 = State(current_state.jug_4, 0)\n",
    "        if empty_jug_3 not in visited:\n",
    "            queue.append(empty_jug_3)\n",
    "\n",
    "    print(\"Target cannot be achieved with the given jugs.\")\n",
    "\n",
    "if __name__ == \"__main__\":\n",
    "    target = 2\n",
    "    water_jug_bfs(target)\n"
   ]
  },
  {
   "cell_type": "code",
   "execution_count": null,
   "id": "f50ab477",
   "metadata": {},
   "outputs": [],
   "source": []
  }
 ],
 "metadata": {
  "kernelspec": {
   "display_name": "Python 3 (ipykernel)",
   "language": "python",
   "name": "python3"
  },
  "language_info": {
   "codemirror_mode": {
    "name": "ipython",
    "version": 3
   },
   "file_extension": ".py",
   "mimetype": "text/x-python",
   "name": "python",
   "nbconvert_exporter": "python",
   "pygments_lexer": "ipython3",
   "version": "3.11.5"
  }
 },
 "nbformat": 4,
 "nbformat_minor": 5
}

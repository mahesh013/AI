{
 "cells": [
  {
   "cell_type": "code",
   "execution_count": 1,
   "id": "cf6030f6",
   "metadata": {},
   "outputs": [
    {
     "name": "stdout",
     "output_type": "stream",
     "text": [
      "Enter the year: 2001\n",
      "Enter the month (1-12): 2\n",
      "Calendar for February 2001:\n",
      "\n",
      "   February 2001\n",
      "Mo Tu We Th Fr Sa Su\n",
      "          1  2  3  4\n",
      " 5  6  7  8  9 10 11\n",
      "12 13 14 15 16 17 18\n",
      "19 20 21 22 23 24 25\n",
      "26 27 28\n",
      "\n"
     ]
    }
   ],
   "source": [
    "import calendar\n",
    "\n",
    "def generate_calendar(year, month):\n",
    "    # Text calendar\n",
    "    cal = calendar.TextCalendar()\n",
    "    month_calendar = cal.formatmonth(year, month)\n",
    "    \n",
    "    # Display the calendar\n",
    "    print(f\"Calendar for {calendar.month_name[month]} {year}:\\n\")\n",
    "    print(month_calendar)\n",
    "\n",
    "def main():\n",
    "    # Get user input for the year and month\n",
    "    year = int(input(\"Enter the year: \"))\n",
    "    month = int(input(\"Enter the month (1-12): \"))\n",
    "\n",
    "    # Validate the input\n",
    "    if 1 <= month <= 12:\n",
    "        generate_calendar(year, month)\n",
    "    else:\n",
    "        print(\"Invalid month. Please enter a month between 1 and 12.\")\n",
    "\n",
    "if __name__ == \"__main__\":\n",
    "    main()\n"
   ]
  },
  {
   "cell_type": "code",
   "execution_count": 2,
   "id": "376f2c5c",
   "metadata": {},
   "outputs": [
    {
     "name": "stdout",
     "output_type": "stream",
     "text": [
      "Starting DFS from node 1 to find goal node 7\n",
      "Visiting node 1\n",
      "Visiting node 3\n",
      "Visiting node 2\n",
      "Visiting node 4\n",
      "Visiting node 6\n",
      "Visiting node 5\n",
      "Visiting node 7\n",
      "Goal node 7 found!\n"
     ]
    }
   ],
   "source": [
    "from collections import defaultdict\n",
    "\n",
    "class Graph:\n",
    "    def __init__(self):\n",
    "        self.graph = defaultdict(list)\n",
    "\n",
    "    def add_edge(self, u, v):\n",
    "        self.graph[u].append(v)\n",
    "\n",
    "    def dfs(self, current_node, goal_node, visited):\n",
    "        print(f\"Visiting node {current_node}\")\n",
    "\n",
    "        if current_node == goal_node:\n",
    "            print(f\"Goal node {goal_node} found!\")\n",
    "            return True\n",
    "\n",
    "        visited.add(current_node)\n",
    "\n",
    "        for neighbor in self.graph[current_node]:\n",
    "            if neighbor not in visited:\n",
    "                if self.dfs(neighbor, goal_node, visited):\n",
    "                    return True\n",
    "\n",
    "        return False\n",
    "\n",
    "# Create a graph based on the provided input\n",
    "def create_graph():\n",
    "    graph = Graph()\n",
    "    edges = [(1, 3), (1, 2), (2, 4), (3, 2), (4, 6), (4, 5),(5,3),(5,7),(7,6)]\n",
    "    for edge in edges:\n",
    "        graph.add_edge(edge[0], edge[1])\n",
    "    return graph\n",
    "\n",
    "def main():\n",
    "    # Create a graph\n",
    "    graph = create_graph()\n",
    "\n",
    "    # Set the initial and goal nodes\n",
    "    initial_node = 1\n",
    "    goal_node = 7\n",
    "\n",
    "    # Run DFS\n",
    "    print(f\"Starting DFS from node {initial_node} to find goal node {goal_node}\")\n",
    "    visited = set()\n",
    "    if not graph.dfs(initial_node, goal_node, visited):\n",
    "        print(f\"Goal node {goal_node} not reachable from the initial node {initial_node}\")\n",
    "\n",
    "if __name__ == \"__main__\":\n",
    "    main()\n"
   ]
  },
  {
   "cell_type": "code",
   "execution_count": null,
   "id": "754e95af",
   "metadata": {},
   "outputs": [],
   "source": []
  }
 ],
 "metadata": {
  "kernelspec": {
   "display_name": "Python 3 (ipykernel)",
   "language": "python",
   "name": "python3"
  },
  "language_info": {
   "codemirror_mode": {
    "name": "ipython",
    "version": 3
   },
   "file_extension": ".py",
   "mimetype": "text/x-python",
   "name": "python",
   "nbconvert_exporter": "python",
   "pygments_lexer": "ipython3",
   "version": "3.11.5"
  }
 },
 "nbformat": 4,
 "nbformat_minor": 5
}

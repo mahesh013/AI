{
 "cells": [
  {
   "cell_type": "code",
   "execution_count": 1,
   "id": "599493cd",
   "metadata": {},
   "outputs": [
    {
     "name": "stdout",
     "output_type": "stream",
     "text": [
      "Solution found:\n",
      "   T W O\n",
      " + T W O\n",
      "---------\n",
      "   F O U R\n"
     ]
    }
   ],
   "source": [
    "from itertools import permutations\n",
    "\n",
    "def is_solution(mapping):\n",
    "    # Check if the mapping satisfies the cryptarithmetic equation\n",
    "    two1 = mapping['T'] * 100 + mapping['W'] * 10 + mapping['O']\n",
    "    two2 = mapping['T'] * 100 + mapping['W'] * 10 + mapping['O']\n",
    "    four = mapping['F'] * 1000 + mapping['O'] * 100 + mapping['U'] * 10 + mapping['R']\n",
    "    \n",
    "    return two1 + two2 == four\n",
    "\n",
    "def solve_cryptarithmetic():\n",
    "    # Generate all possible digit mappings\n",
    "    digits = set(range(10))\n",
    "    for perm in permutations(digits):\n",
    "        mapping = dict(zip('TWOFUR', perm))\n",
    "        if is_solution(mapping):\n",
    "            print(\"Solution found:\")\n",
    "            print(\"   T W O\")\n",
    "            print(f\" + T W O\")\n",
    "            print(\"---------\")\n",
    "            print(f\"   F O U R\")\n",
    "            return\n",
    "\n",
    "    print(\"No solution found.\")\n",
    "\n",
    "if __name__ == \"__main__\":\n",
    "    solve_cryptarithmetic()\n"
   ]
  },
  {
   "cell_type": "code",
   "execution_count": null,
   "id": "fe37c898",
   "metadata": {},
   "outputs": [],
   "source": [
    "import random\n",
    "\n",
    "def simple_chatbot(user_input):\n",
    "    greetings = ['hello', 'hi', 'hey', 'howdy']\n",
    "    farewells = ['bye', 'goodbye', 'see you', 'see you later']\n",
    "    questions = ['how are you', 'what is your name', 'how do you do']\n",
    "\n",
    "    user_input_lower = user_input.lower()\n",
    "\n",
    "    for greeting in greetings:\n",
    "        if greeting in user_input_lower:\n",
    "            return random.choice(['Hello!', 'Hi there!', 'Hey!'])\n",
    "\n",
    "    for farewell in farewells:\n",
    "        if farewell in user_input_lower:\n",
    "            return random.choice(['Goodbye!', 'See you!', 'Bye!'])\n",
    "\n",
    "    for question in questions:\n",
    "        if question in user_input_lower:\n",
    "            return random.choice(['I am a simple chatbot.', 'My name is ChatBot.', 'I am doing well, thank you.'])\n",
    "\n",
    "    return \"I'm sorry, I didn't understand that.\"\n",
    "\n",
    "def main():\n",
    "    print(\"Simple Chatbot: Hello! Type 'exit' to end the conversation.\")\n",
    "\n",
    "    while True:\n",
    "        user_input = input(\"You: \")\n",
    "        \n",
    "        if user_input.lower() == 'exit':\n",
    "            print(\"Simple Chatbot: Goodbye!\")\n",
    "            break\n",
    "\n",
    "        response = simple_chatbot(user_input)\n",
    "        print(\"Simple Chatbot:\", response)\n",
    "\n",
    "if __name__ == \"__main__\":\n",
    "    main()\n"
   ]
  }
 ],
 "metadata": {
  "kernelspec": {
   "display_name": "Python 3 (ipykernel)",
   "language": "python",
   "name": "python3"
  },
  "language_info": {
   "codemirror_mode": {
    "name": "ipython",
    "version": 3
   },
   "file_extension": ".py",
   "mimetype": "text/x-python",
   "name": "python",
   "nbconvert_exporter": "python",
   "pygments_lexer": "ipython3",
   "version": "3.11.5"
  }
 },
 "nbformat": 4,
 "nbformat_minor": 5
}

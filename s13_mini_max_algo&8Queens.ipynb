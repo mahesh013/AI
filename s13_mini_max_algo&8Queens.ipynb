{
 "cells": [
  {
   "cell_type": "code",
   "execution_count": 1,
   "id": "55c4e647",
   "metadata": {},
   "outputs": [
    {
     "name": "stdout",
     "output_type": "stream",
     "text": [
      "Best Move: None\n"
     ]
    }
   ],
   "source": [
    "import math\n",
    "\n",
    "def mini_max(board, depth, is_maximizing_player):\n",
    "    if depth == 0 or is_game_over(board):\n",
    "        return evaluate(board)\n",
    "\n",
    "    if is_maximizing_player:\n",
    "        max_eval = -math.inf\n",
    "        for move in get_possible_moves(board):\n",
    "            evaluation = mini_max(make_move(board, move), depth - 1, False)\n",
    "            max_eval = max(max_eval, evaluation)\n",
    "        return max_eval\n",
    "    else:\n",
    "        min_eval = math.inf\n",
    "        for move in get_possible_moves(board):\n",
    "            evaluation = mini_max(make_move(board, move), depth - 1, True)\n",
    "            min_eval = min(min_eval, evaluation)\n",
    "        return min_eval\n",
    "\n",
    "def is_game_over(board):\n",
    "    # Check if the game is over (e.g., someone wins or it's a tie)\n",
    "    return True  # Add your own logic here\n",
    "\n",
    "def evaluate(board):\n",
    "    # Evaluate the current state of the board\n",
    "    return 0  # Add your own evaluation logic here\n",
    "\n",
    "def get_possible_moves(board):\n",
    "    # Get a list of possible moves in the current state\n",
    "    return []  # Add your own logic here\n",
    "\n",
    "def make_move(board, move):\n",
    "    # Make a move on the board and return the new state\n",
    "    return board  # Add your own logic here\n",
    "\n",
    "if __name__ == \"__main__\":\n",
    "    # Example usage\n",
    "    initial_board = []  # Add your own initial board state here\n",
    "    best_move = None\n",
    "    best_value = -math.inf\n",
    "\n",
    "    for move in get_possible_moves(initial_board):\n",
    "        new_value = mini_max(make_move(initial_board, move), depth=3, is_maximizing_player=False)\n",
    "        if new_value > best_value:\n",
    "            best_value = new_value\n",
    "            best_move = move\n",
    "\n",
    "    print(f\"Best Move: {best_move}\")\n"
   ]
  },
  {
   "cell_type": "code",
   "execution_count": 2,
   "id": "f269fd53",
   "metadata": {},
   "outputs": [
    {
     "name": "stdout",
     "output_type": "stream",
     "text": [
      "Solution found:\n",
      "Q . . . . . . .\n",
      ". . . . Q . . .\n",
      ". . . . . . . Q\n",
      ". . . . . Q . .\n",
      ". . Q . . . . .\n",
      ". . . . . . Q .\n",
      ". Q . . . . . .\n",
      ". . . Q . . . .\n"
     ]
    }
   ],
   "source": [
    "def is_safe(board, row, col):\n",
    "    # Check if there is a queen in the same row\n",
    "    if any(board[row]):\n",
    "        return False\n",
    "\n",
    "    # Check if there is a queen in the same column\n",
    "    if any(board[i][col] for i in range(len(board))):\n",
    "        return False\n",
    "\n",
    "    # Check if there is a queen in the left diagonal\n",
    "    if any(board[i][j] for i, j in zip(range(row, -1, -1), range(col, -1, -1))):\n",
    "        return False\n",
    "\n",
    "    # Check if there is a queen in the right diagonal\n",
    "    if any(board[i][j] for i, j in zip(range(row, -1, -1), range(col, len(board)))):\n",
    "        return False\n",
    "\n",
    "    return True\n",
    "\n",
    "def solve_queens(board, row):\n",
    "    if row == len(board):\n",
    "        return True  # All queens are placed successfully\n",
    "\n",
    "    for col in range(len(board)):\n",
    "        if is_safe(board, row, col):\n",
    "            board[row][col] = 1  # Place the queen\n",
    "            if solve_queens(board, row + 1):\n",
    "                return True\n",
    "            board[row][col] = 0  # Backtrack if placing the queen leads to no solution\n",
    "\n",
    "    return False  # No solution found\n",
    "\n",
    "def print_board(board):\n",
    "    for row in board:\n",
    "        print(\" \".join(\"Q\" if cell else \".\" for cell in row))\n",
    "\n",
    "def eight_queens():\n",
    "    board = [[0] * 8 for _ in range(8)]\n",
    "\n",
    "    if solve_queens(board, 0):\n",
    "        print(\"Solution found:\")\n",
    "        print_board(board)\n",
    "    else:\n",
    "        print(\"No solution found.\")\n",
    "\n",
    "if __name__ == \"__main__\":\n",
    "    eight_queens()\n"
   ]
  },
  {
   "cell_type": "code",
   "execution_count": null,
   "id": "dfb26f56",
   "metadata": {},
   "outputs": [],
   "source": []
  }
 ],
 "metadata": {
  "kernelspec": {
   "display_name": "Python 3 (ipykernel)",
   "language": "python",
   "name": "python3"
  },
  "language_info": {
   "codemirror_mode": {
    "name": "ipython",
    "version": 3
   },
   "file_extension": ".py",
   "mimetype": "text/x-python",
   "name": "python",
   "nbconvert_exporter": "python",
   "pygments_lexer": "ipython3",
   "version": "3.11.5"
  }
 },
 "nbformat": 4,
 "nbformat_minor": 5
}

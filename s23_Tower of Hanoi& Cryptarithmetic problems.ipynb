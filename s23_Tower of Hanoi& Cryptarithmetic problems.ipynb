{
 "cells": [
  {
   "cell_type": "code",
   "execution_count": null,
   "id": "0e019086",
   "metadata": {},
   "outputs": [],
   "source": [
    "def tower_of_hanoi(n, source, target, auxiliary):\n",
    "    if n > 0:\n",
    "        # Move n-1 disks from source to auxiliary peg\n",
    "        tower_of_hanoi(n - 1, source, auxiliary, target)\n",
    "\n",
    "        # Move the nth disk from source to target peg\n",
    "        print(f\"Move disk {n} from {source} to {target}\")\n",
    "\n",
    "        # Move the n-1 disks from auxiliary peg to target peg\n",
    "        tower_of_hanoi(n - 1, auxiliary, target, source)\n",
    "\n",
    "if __name__ == \"__main__\":\n",
    "    num_disks = int(input(\"Enter the number of disks: \"))\n",
    "    tower_of_hanoi(num_disks, 'A', 'C', 'B')\n"
   ]
  },
  {
   "cell_type": "code",
   "execution_count": null,
   "id": "cad39f15",
   "metadata": {},
   "outputs": [],
   "source": [
    "from itertools import permutations\n",
    "\n",
    "def solve_cryptarithmetic():\n",
    "    for perm in permutations(range(10), 8):\n",
    "        s, e, n, d, m, o, r, y = perm\n",
    "        if s != 0 and m != 0:\n",
    "            send = s * 1000 + e * 100 + n * 10 + d\n",
    "            more = m * 1000 + o * 100 + r * 10 + e\n",
    "            money = m * 10000 + o * 1000 + n * 100 + e * 10 + y\n",
    "\n",
    "            if send + more == money:\n",
    "                print(f\"S = {s}, E = {e}, N = {n}, D = {d}\")\n",
    "                print(f\"M = {m}, O = {o}, R = {r}, E = {e}\")\n",
    "                print(f\"M = {m}, O = {o}, N = {n}, E = {y}\")\n",
    "                print(\"Solution found!\")\n",
    "                return\n",
    "\n",
    "    print(\"No solution found.\")\n",
    "\n",
    "if __name__ == \"__main__\":\n",
    "    solve_cryptarithmetic()\n"
   ]
  },
  {
   "cell_type": "code",
   "execution_count": null,
   "id": "1e234cfc",
   "metadata": {},
   "outputs": [],
   "source": []
  }
 ],
 "metadata": {
  "kernelspec": {
   "display_name": "Python 3 (ipykernel)",
   "language": "python",
   "name": "python3"
  },
  "language_info": {
   "codemirror_mode": {
    "name": "ipython",
    "version": 3
   },
   "file_extension": ".py",
   "mimetype": "text/x-python",
   "name": "python",
   "nbconvert_exporter": "python",
   "pygments_lexer": "ipython3",
   "version": "3.11.5"
  }
 },
 "nbformat": 4,
 "nbformat_minor": 5
}

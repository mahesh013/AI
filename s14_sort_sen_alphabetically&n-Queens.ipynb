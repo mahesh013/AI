{
 "cells": [
  {
   "cell_type": "code",
   "execution_count": 1,
   "id": "7884d333",
   "metadata": {},
   "outputs": [
    {
     "name": "stdout",
     "output_type": "stream",
     "text": [
      "Enter a sentence: mahesh kandekar\n",
      "Sorted Sentence: kandekar mahesh\n"
     ]
    }
   ],
   "source": [
    "def sort_sentence_alphabetically(sentence):\n",
    "    words = sentence.split()\n",
    "    sorted_words = sorted(words)\n",
    "    sorted_sentence = ' '.join(sorted_words)\n",
    "    return sorted_sentence\n",
    "\n",
    "if __name__ == \"__main__\":\n",
    "    input_sentence = input(\"Enter a sentence: \")\n",
    "    result = sort_sentence_alphabetically(input_sentence)\n",
    "    print(\"Sorted Sentence:\", result)\n"
   ]
  },
  {
   "cell_type": "code",
   "execution_count": 2,
   "id": "5d4d9cdc",
   "metadata": {},
   "outputs": [
    {
     "name": "stdout",
     "output_type": "stream",
     "text": [
      "Enter the value of n for n-Queens problem: 20\n",
      "Solution found for 20-Queens:\n",
      "Q . . . . . . . . . . . . . . . . . . .\n",
      ". . Q . . . . . . . . . . . . . . . . .\n",
      ". . . . Q . . . . . . . . . . . . . . .\n",
      ". Q . . . . . . . . . . . . . . . . . .\n",
      ". . . Q . . . . . . . . . . . . . . . .\n",
      ". . . . . . . . . . . . Q . . . . . . .\n",
      ". . . . . . . . . . . . . . Q . . . . .\n",
      ". . . . . . . . . . . Q . . . . . . . .\n",
      ". . . . . . . . . . . . . . . . . Q . .\n",
      ". . . . . . . . . . . . . . . . . . . Q\n",
      ". . . . . . . . . . . . . . . . Q . . .\n",
      ". . . . . . . . Q . . . . . . . . . . .\n",
      ". . . . . . . . . . . . . . . Q . . . .\n",
      ". . . . . . . . . . . . . . . . . . Q .\n",
      ". . . . . . . Q . . . . . . . . . . . .\n",
      ". . . . . . . . . Q . . . . . . . . . .\n",
      ". . . . . . Q . . . . . . . . . . . . .\n",
      ". . . . . . . . . . . . . Q . . . . . .\n",
      ". . . . . Q . . . . . . . . . . . . . .\n",
      ". . . . . . . . . . Q . . . . . . . . .\n"
     ]
    }
   ],
   "source": [
    "def is_safe(board, row, col, n):\n",
    "    # Check if there is a queen in the same row\n",
    "    if any(board[row]):\n",
    "        return False\n",
    "\n",
    "    # Check if there is a queen in the same column\n",
    "    if any(board[i][col] for i in range(n)):\n",
    "        return False\n",
    "\n",
    "    # Check if there is a queen in the left diagonal\n",
    "    if any(board[i][j] for i, j in zip(range(row, -1, -1), range(col, -1, -1))):\n",
    "        return False\n",
    "\n",
    "    # Check if there is a queen in the right diagonal\n",
    "    if any(board[i][j] for i, j in zip(range(row, -1, -1), range(col, n))):\n",
    "        return False\n",
    "\n",
    "    return True\n",
    "\n",
    "def solve_queens(board, row, n):\n",
    "    if row == n:\n",
    "        return True  # All queens are placed successfully\n",
    "\n",
    "    for col in range(n):\n",
    "        if is_safe(board, row, col, n):\n",
    "            board[row][col] = 1  # Place the queen\n",
    "            if solve_queens(board, row + 1, n):\n",
    "                return True\n",
    "            board[row][col] = 0  # Backtrack if placing the queen leads to no solution\n",
    "\n",
    "    return False  # No solution found\n",
    "\n",
    "def print_board(board):\n",
    "    for row in board:\n",
    "        print(\" \".join(\"Q\" if cell else \".\" for cell in row))\n",
    "\n",
    "def n_queens(n):\n",
    "    board = [[0] * n for _ in range(n)]\n",
    "\n",
    "    if solve_queens(board, 0, n):\n",
    "        print(f\"Solution found for {n}-Queens:\")\n",
    "        print_board(board)\n",
    "    else:\n",
    "        print(f\"No solution found for {n}-Queens.\")\n",
    "\n",
    "if __name__ == \"__main__\":\n",
    "    try:\n",
    "        n = int(input(\"Enter the value of n for n-Queens problem: \"))\n",
    "        if n > 0:\n",
    "            n_queens(n)\n",
    "        else:\n",
    "            print(\"Please enter a positive integer.\")\n",
    "    except ValueError:\n",
    "        print(\"Invalid input. Please enter a positive integer.\")\n"
   ]
  },
  {
   "cell_type": "code",
   "execution_count": null,
   "id": "aa4ff4a7",
   "metadata": {},
   "outputs": [],
   "source": []
  }
 ],
 "metadata": {
  "kernelspec": {
   "display_name": "Python 3 (ipykernel)",
   "language": "python",
   "name": "python3"
  },
  "language_info": {
   "codemirror_mode": {
    "name": "ipython",
    "version": 3
   },
   "file_extension": ".py",
   "mimetype": "text/x-python",
   "name": "python",
   "nbconvert_exporter": "python",
   "pygments_lexer": "ipython3",
   "version": "3.11.5"
  }
 },
 "nbformat": 4,
 "nbformat_minor": 5
}
